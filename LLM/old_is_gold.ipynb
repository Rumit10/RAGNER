{
 "cells": [
  {
   "cell_type": "code",
   "execution_count": 1,
   "metadata": {},
   "outputs": [
    {
     "name": "stdout",
     "output_type": "stream",
     "text": [
      "llama2\n"
     ]
    }
   ],
   "source": [
    "MODEL = \"llama2\"\n",
    "print(MODEL)"
   ]
  },
  {
   "cell_type": "code",
   "execution_count": 2,
   "metadata": {},
   "outputs": [
    {
     "data": {
      "text/plain": [
       "\"Sure! Here's one:\\n\\nWhy don't scientists trust atoms?\\nBecause they make up everything!\\n\\nI hope that brought a smile to your face!\""
      ]
     },
     "execution_count": 2,
     "metadata": {},
     "output_type": "execute_result"
    }
   ],
   "source": [
    "from langchain_community.llms import Ollama\n",
    "from langchain_community.embeddings import OllamaEmbeddings\n",
    "\n",
    "model = Ollama(model=MODEL)\n",
    "embeddings = OllamaEmbeddings(model=MODEL)\n",
    "\n",
    "model.invoke(\"Tell me a joke\")"
   ]
  },
  {
   "cell_type": "code",
   "execution_count": 3,
   "metadata": {},
   "outputs": [],
   "source": [
    "from langchain_core.output_parsers import StrOutputParser\n",
    "\n",
    "parser = StrOutputParser()\n",
    "\n",
    "chain = model | parser \n",
    "#chain.invoke(\"Tell me a joke\")"
   ]
  },
  {
   "cell_type": "code",
   "execution_count": 4,
   "metadata": {},
   "outputs": [
    {
     "data": {
      "text/plain": [
       "'\\nAnswer the question based on the context below. If you can\\'t \\nanswer the question, reply \"I don\\'t know\".\\n\\nContext: Here is some context\\n\\nQuestion: Here is a question\\n'"
      ]
     },
     "execution_count": 4,
     "metadata": {},
     "output_type": "execute_result"
    }
   ],
   "source": [
    "from langchain.prompts import PromptTemplate\n",
    "\n",
    "template = \"\"\"\n",
    "Answer the question based on the context below. If you can't \n",
    "answer the question, reply \"I don't know\".\n",
    "\n",
    "Context: {context}\n",
    "\n",
    "Question: {question}\n",
    "\"\"\"\n",
    "\n",
    "prompt = PromptTemplate.from_template(template)\n",
    "prompt.format(context=\"Here is some context\", question=\"Here is a question\")\n"
   ]
  },
  {
   "cell_type": "code",
   "execution_count": 5,
   "metadata": {},
   "outputs": [],
   "source": [
    "chain = prompt | model | parser\n",
    "\n",
    "#chain.invoke({\"context\": \"My parents named me Santiago\", \"question\": \"What's your name'?\"})"
   ]
  },
  {
   "cell_type": "code",
   "execution_count": 6,
   "metadata": {},
   "outputs": [
    {
     "data": {
      "text/plain": [
       "[Document(page_content=\"Established in 1994, the Indian Institute of Technology Guwahati (IIT Guwahati or IITG) stands as one of \\nIndia's premier engineering institutions. Nestled along the picturesque northern banks of the Brahmaputra\\nRiver in Guwahati, Assam, the institute offers a wide array of undergraduate, postgraduate, and doctoral \\nprograms across engineering, science, and humanities disciplines. Its sprawling 700-acre campus boasts \\nstate-of-the-art infrastructure, including academic buildings, research centers, hostels, sports facilities, \\nand student activity centers, providing an enriching environment for learning and innovation.  \\n  \\nBeyond academics, IIT Guwahati fosters a vibrant student life with numerous clubs, societies, and cultural\\nevents that cater to a diverse range of interests, from music and dance to entrepreneurship initiatives. \\nThe institute's emphasis on research and innovation has led to significant contributions in fields such as \\nnanotechnology, biotechnology, renewable energy, and environmental science, with a strong emphasis \\non interdisciplinary collaboration and industry partnerships.  \\n  \\nWith a robust placement record, IIT Guwahati attracts leading companies from around the world, offering \\npromising career opportunities to its graduates. Moreover, its alumni network, comprising successful \\nprofessionals across various domains, further enhances its reputation and global reach. Additionally, the \\ninstitute is deeply committed to outreach and social initiatives, actively engaging in projects aimed at \\npromoting education, skill development, and social welfare in the northeastern region of India, thereby \\nembodying its mission of academic excellence coupled with societal impact. Overall, IIT Guwahati stands \\nas a beacon of excellence in engineering education, research, and community development, making it a \\npreferred destination for students aspiring to make a difference in the world of technology and beyond.  \\n  \\n  \\nDebsoc the debating club, is currently hiring new members to join its dynamic team. Aspiring debaters \\nand public speakers are invited to apply and showcase their skills in argumentation, persuasion, and \\ncritical thinking. Meanwhile, for students interested in competitive programming, the institute will be \\nconducting orientation sessions for ICPC on the upcoming Saturday. These orientations will provide \\nvaluable insights into the format, rules, and strategies for participating in these prestigious programming \\ncompetitions. Additionally, the initial selection rounds for ICPC will commence alongside the orientation \\nallowing participants to kickstart their journey in competitive programming and via for a spot in the \\nesteemed ICPC competition. Whether students are passionate about debating or programming, these \\nopportunities offer a chance to enhance their skills, meet like-minded peers, and actively engage in \\nextracurricular pursuits at IIT Guwahati.  \\n  \\nJust outside the library at the Indian Institute of Technology Guwahati, students can find a CCD outlet.  \\n  \\nIn the heart of the campus, nestled among lush green trees and well-manicured lawns, IITG has home to \\nthe brightest and most talented students. Lohit hostel was spardha winner it has emerged victorious after \\na tough fight from Brahmaputra hostel. Just outside the gymkhana was Khoka, where students would \\noften celebrate on special occasion.  Students would gather around Khoka during their breaks, chatting \\nand laughing as they enjoyed their snacks.  \\n   \\nAs you walk along Suryapath. you have core1 on left with state of the art facilities. To your right is Core2, \\na bustling hub of activity where students gather for group discussions and study sessions. Further down \\nthe road, you come across Core3, Core3 is a cradle of creativity and collaboration, where students work \\non projects that push the boundaries of knowledge and technology.\", metadata={'source': 'iitg_dataset.pdf', 'page': 0}),\n",
       " Document(page_content=\"the road, you come across Core3, Core3 is a cradle of creativity and collaboration, where students work \\non projects that push the boundaries of knowledge and technology.  \\n   \\nAs you continue on your journey, you reach Core4 a symbol of the institution's rich heritage and tradition, \\nwith its grand facade and intricate detailing.Just after that on front side you have view point from which \\nyou can see the magnificent serpentine lake.  \\n   \\nStudent counseling at the Indian Institute of Technology Guwahati (IIT Guwahati or IITG) plays a crucial \\nrole in supporting the mental health and well-being of its student community. In recent years, the issue of \\nstudent suicides has brought increased attention to the importance of mental health services on campus. \\nRecognizing the need for proactive intervention, the institute has intensified its efforts to provide\", metadata={'source': 'iitg_dataset.pdf', 'page': 0}),\n",
       " Document(page_content='comprehensive counseling and support mechanisms to students facing academic, personal, or emotional \\nchallenges. Trained counselors offer confidential guidance and assistance to students, helping them \\nnavigate through academic pressures, relationship issues, and other stressors. Additionally, workshops, \\nseminars, and awareness campaigns are organized to promote mental health awareness and \\nresilience-building among students.  \\n  \\nUnfortunately, the tragic incident of a first-year student from CSE committed suicide in Brahmaputra \\nhostel which has underscored the urgent need for enhanced mental health support within the campus \\ncommunity. This heartbreaking event has prompted the institute to redouble its efforts in implementing \\nproactive measures to address mental health concerns and provide timely intervention and support to \\nstudents in distress. By prioritizing student counseling and mental health support, IIT Guwahati aims to \\ncreate a nurturing and supportive campus environment where students can thrive academically and \\npersonally while addressing the complex challenges of mental health in academia.', metadata={'source': 'iitg_dataset.pdf', 'page': 1})]"
      ]
     },
     "execution_count": 6,
     "metadata": {},
     "output_type": "execute_result"
    }
   ],
   "source": [
    "from langchain_community.document_loaders import PyPDFLoader\n",
    "\n",
    "loader = PyPDFLoader(\"iitg_dataset.pdf\")\n",
    "pages = loader.load_and_split()\n",
    "pages"
   ]
  },
  {
   "cell_type": "code",
   "execution_count": 8,
   "metadata": {},
   "outputs": [],
   "source": [
    "from langchain_community.vectorstores import DocArrayInMemorySearch\n",
    "    \n",
    "vectorstore = DocArrayInMemorySearch.from_documents(pages, embedding=embeddings)"
   ]
  },
  {
   "cell_type": "code",
   "execution_count": 9,
   "metadata": {},
   "outputs": [
    {
     "data": {
      "text/plain": [
       "[Document(page_content=\"Established in 1994, the Indian Institute of Technology Guwahati (IIT Guwahati or IITG) stands as one of \\nIndia's premier engineering institutions. Nestled along the picturesque northern banks of the Brahmaputra\\nRiver in Guwahati, Assam, the institute offers a wide array of undergraduate, postgraduate, and doctoral \\nprograms across engineering, science, and humanities disciplines. Its sprawling 700-acre campus boasts \\nstate-of-the-art infrastructure, including academic buildings, research centers, hostels, sports facilities, \\nand student activity centers, providing an enriching environment for learning and innovation.  \\n  \\nBeyond academics, IIT Guwahati fosters a vibrant student life with numerous clubs, societies, and cultural\\nevents that cater to a diverse range of interests, from music and dance to entrepreneurship initiatives. \\nThe institute's emphasis on research and innovation has led to significant contributions in fields such as \\nnanotechnology, biotechnology, renewable energy, and environmental science, with a strong emphasis \\non interdisciplinary collaboration and industry partnerships.  \\n  \\nWith a robust placement record, IIT Guwahati attracts leading companies from around the world, offering \\npromising career opportunities to its graduates. Moreover, its alumni network, comprising successful \\nprofessionals across various domains, further enhances its reputation and global reach. Additionally, the \\ninstitute is deeply committed to outreach and social initiatives, actively engaging in projects aimed at \\npromoting education, skill development, and social welfare in the northeastern region of India, thereby \\nembodying its mission of academic excellence coupled with societal impact. Overall, IIT Guwahati stands \\nas a beacon of excellence in engineering education, research, and community development, making it a \\npreferred destination for students aspiring to make a difference in the world of technology and beyond.  \\n  \\n  \\nDebsoc the debating club, is currently hiring new members to join its dynamic team. Aspiring debaters \\nand public speakers are invited to apply and showcase their skills in argumentation, persuasion, and \\ncritical thinking. Meanwhile, for students interested in competitive programming, the institute will be \\nconducting orientation sessions for ICPC on the upcoming Saturday. These orientations will provide \\nvaluable insights into the format, rules, and strategies for participating in these prestigious programming \\ncompetitions. Additionally, the initial selection rounds for ICPC will commence alongside the orientation \\nallowing participants to kickstart their journey in competitive programming and via for a spot in the \\nesteemed ICPC competition. Whether students are passionate about debating or programming, these \\nopportunities offer a chance to enhance their skills, meet like-minded peers, and actively engage in \\nextracurricular pursuits at IIT Guwahati.  \\n  \\nJust outside the library at the Indian Institute of Technology Guwahati, students can find a CCD outlet.  \\n  \\nIn the heart of the campus, nestled among lush green trees and well-manicured lawns, IITG has home to \\nthe brightest and most talented students. Lohit hostel was spardha winner it has emerged victorious after \\na tough fight from Brahmaputra hostel. Just outside the gymkhana was Khoka, where students would \\noften celebrate on special occasion.  Students would gather around Khoka during their breaks, chatting \\nand laughing as they enjoyed their snacks.  \\n   \\nAs you walk along Suryapath. you have core1 on left with state of the art facilities. To your right is Core2, \\na bustling hub of activity where students gather for group discussions and study sessions. Further down \\nthe road, you come across Core3, Core3 is a cradle of creativity and collaboration, where students work \\non projects that push the boundaries of knowledge and technology.\", metadata={'source': 'iitg_dataset.pdf', 'page': 0}),\n",
       " Document(page_content=\"the road, you come across Core3, Core3 is a cradle of creativity and collaboration, where students work \\non projects that push the boundaries of knowledge and technology.  \\n   \\nAs you continue on your journey, you reach Core4 a symbol of the institution's rich heritage and tradition, \\nwith its grand facade and intricate detailing.Just after that on front side you have view point from which \\nyou can see the magnificent serpentine lake.  \\n   \\nStudent counseling at the Indian Institute of Technology Guwahati (IIT Guwahati or IITG) plays a crucial \\nrole in supporting the mental health and well-being of its student community. In recent years, the issue of \\nstudent suicides has brought increased attention to the importance of mental health services on campus. \\nRecognizing the need for proactive intervention, the institute has intensified its efforts to provide\", metadata={'source': 'iitg_dataset.pdf', 'page': 0}),\n",
       " Document(page_content='comprehensive counseling and support mechanisms to students facing academic, personal, or emotional \\nchallenges. Trained counselors offer confidential guidance and assistance to students, helping them \\nnavigate through academic pressures, relationship issues, and other stressors. Additionally, workshops, \\nseminars, and awareness campaigns are organized to promote mental health awareness and \\nresilience-building among students.  \\n  \\nUnfortunately, the tragic incident of a first-year student from CSE committed suicide in Brahmaputra \\nhostel which has underscored the urgent need for enhanced mental health support within the campus \\ncommunity. This heartbreaking event has prompted the institute to redouble its efforts in implementing \\nproactive measures to address mental health concerns and provide timely intervention and support to \\nstudents in distress. By prioritizing student counseling and mental health support, IIT Guwahati aims to \\ncreate a nurturing and supportive campus environment where students can thrive academically and \\npersonally while addressing the complex challenges of mental health in academia.', metadata={'source': 'iitg_dataset.pdf', 'page': 1})]"
      ]
     },
     "execution_count": 9,
     "metadata": {},
     "output_type": "execute_result"
    }
   ],
   "source": [
    "retriever = vectorstore.as_retriever()\n",
    "retriever.invoke(\"lohit\")"
   ]
  },
  {
   "cell_type": "code",
   "execution_count": 10,
   "metadata": {},
   "outputs": [],
   "source": [
    "from operator import itemgetter\n",
    "\n",
    "chain = (\n",
    "    {\n",
    "        \"context\": itemgetter(\"question\") | retriever,\n",
    "        \"question\": itemgetter(\"question\"),\n",
    "    }\n",
    "    | prompt\n",
    "    | model\n",
    "    | parser\n",
    ")"
   ]
  },
  {
   "cell_type": "code",
   "execution_count": 12,
   "metadata": {},
   "outputs": [
    {
     "name": "stdout",
     "output_type": "stream",
     "text": [
      "Question: What is Lohit?\n",
      "Answer: Based on the provided context, Lohit appears to be a hostel at the Indian Institute of Technology Guwahati (IIT Guwahati or IITG).\n",
      "\n"
     ]
    }
   ],
   "source": [
    "questions = [\n",
    "    \"What is Lohit?\"\n",
    "]\n",
    "\n",
    "for question in questions:\n",
    "    print(f\"Question: {question}\")\n",
    "    print(f\"Answer: {chain.invoke({'question': question})}\")\n",
    "    print()"
   ]
  },
  {
   "cell_type": "code",
   "execution_count": 13,
   "metadata": {},
   "outputs": [],
   "source": [
    "from langchain_community.document_loaders import JSONLoader"
   ]
  },
  {
   "cell_type": "code",
   "execution_count": 14,
   "metadata": {},
   "outputs": [],
   "source": [
    "import json\n",
    "from pathlib import Path\n",
    "from pprint import pprint\n",
    "\n",
    "\n",
    "file_path='/home/raone/LLM Project/NER/iitg_annotations.json'\n",
    "data = json.loads(Path(file_path).read_text())"
   ]
  },
  {
   "cell_type": "code",
   "execution_count": 15,
   "metadata": {},
   "outputs": [
    {
     "name": "stdout",
     "output_type": "stream",
     "text": [
      "[['Established in 1994, the Indian Institute of Technology Guwahati (IIT '\n",
      "  \"Guwahati or IITG) stands as one of India's premier engineering \"\n",
      "  'institutions. Nestled along the picturesque northern banks of the '\n",
      "  'Brahmaputra River in Guwahati, Assam, the institute offers a wide array of '\n",
      "  'undergraduate, postgraduate, and doctoral programs across engineering, '\n",
      "  'science, and humanities disciplines. Its sprawling 700-acre campus boasts '\n",
      "  'state-of-the-art infrastructure, including academic buildings, research '\n",
      "  'centers, hostels, sports facilities, and student activity centers, '\n",
      "  'providing an enriching environment for learning and innovation.\\r',\n",
      "  {'entities': [[25, 87, 'INSTITUTION'], [220, 235, 'PLACES']]}],\n",
      " ['\\r', {'entities': []}],\n",
      " ['Beyond academics, IIT Guwahati fosters a vibrant student life with numerous '\n",
      "  'clubs, societies, and cultural events that cater to a diverse range of '\n",
      "  'interests, from music and dance to entrepreneurship initiatives. The '\n",
      "  \"institute's emphasis on research and innovation has led to significant \"\n",
      "  'contributions in fields such as nanotechnology, biotechnology, renewable '\n",
      "  'energy, and environmental science, with a strong emphasis on '\n",
      "  'interdisciplinary collaboration and industry partnerships.\\r',\n",
      "  {'entities': []}],\n",
      " ['\\r', {'entities': []}],\n",
      " ['With a robust placement record, IIT Guwahati attracts leading companies '\n",
      "  'from around the world, offering promising career opportunities to its '\n",
      "  'graduates. Moreover, its alumni network, comprising successful '\n",
      "  'professionals across various domains, further enhances its reputation and '\n",
      "  'global reach. Additionally, the institute is deeply committed to outreach '\n",
      "  'and social initiatives, actively engaging in projects aimed at promoting '\n",
      "  'education, skill development, and social welfare in the northeastern region '\n",
      "  'of India, thereby embodying its mission of academic excellence coupled with '\n",
      "  'societal impact. Overall, IIT Guwahati stands as a beacon of excellence in '\n",
      "  'engineering education, research, and community development, making it a '\n",
      "  'preferred destination for students aspiring to make a difference in the '\n",
      "  'world of technology and beyond.\\r',\n",
      "  {'entities': []}],\n",
      " ['\\r', {'entities': []}],\n",
      " ['\\r', {'entities': []}],\n",
      " ['Debsoc, is currently hiring new members to join its dynamic team. Aspiring '\n",
      "  'debaters and public speakers are invited to apply and showcase their skills '\n",
      "  'in argumentation, persuasion, and critical thinking. Meanwhile, for '\n",
      "  'students interested in competitive programming, the institute will be '\n",
      "  'conducting orientation sessions for ICPC on the upcoming Saturday. These '\n",
      "  'orientations will provide valuable insights into the format, rules, and '\n",
      "  'strategies for participating in these prestigious programming competitions. '\n",
      "  'Additionally, the initial selection rounds for ICPC will commence alongside '\n",
      "  'the orientation allowing participants to kickstart their journey in '\n",
      "  'competitive programming and vie for a spot in the esteemed ICPC '\n",
      "  'competition. Whether students are passionate about debating or programming, '\n",
      "  'these opportunities offer a chance to enhance their skills, meet '\n",
      "  'like-minded peers, and actively engage in extracurricular pursuits at IIT '\n",
      "  'Guwahati.\\r',\n",
      "  {'entities': [[0, 6, 'CLUB'], [325, 329, 'COMPETITIONS']]}],\n",
      " ['\\r', {'entities': []}],\n",
      " ['Just outside the library at the Indian Institute of Technology Guwahati, '\n",
      "  'students can find a CCD outlet.\\r',\n",
      "  {'entities': []}],\n",
      " ['\\r', {'entities': []}],\n",
      " ['In the heart of the campus, nestled among lush green trees and '\n",
      "  'well-manicured lawns, IITG has home to the brightest and most talented '\n",
      "  'students. Lohit was spardha winner it has emerged victorious after a tough '\n",
      "  'fight from Brahmaputra. Just outside the gymkhana was Khoka, where students '\n",
      "  'would often celebrate on special occasion.  Students would gather around '\n",
      "  'Khoka during their breaks, chatting and laughing as they enjoyed their '\n",
      "  'snacks.\\r',\n",
      "  {'entities': [[144, 149, 'HOSTEL'],\n",
      "                [220, 232, 'HOSTEL'],\n",
      "                [250, 258, 'BUILDING'],\n",
      "                [263, 268, 'PLACES']]}],\n",
      " [' \\r', {'entities': []}],\n",
      " ['As you walk along Suryapath. you have core1 on left with state of the art '\n",
      "  'facilities. To your right is Core2, a bustling hub of activity where '\n",
      "  'students gather for group discussions and study sessions. Further down the '\n",
      "  'road, you come across Core3, Core3 is a cradle of creativity and '\n",
      "  'collaboration, where students work on projects that push the boundaries of '\n",
      "  'knowledge and technology.\\r',\n",
      "  {'entities': [[18, 28, 'ROAD'],\n",
      "                [38, 43, 'BUILDING'],\n",
      "                [103, 108, 'BUILDING'],\n",
      "                [247, 252, 'BUILDING']]}],\n",
      " [' \\r', {'entities': []}],\n",
      " ['As you continue on your journey, you reach Core4 a symbol of the '\n",
      "  \"institution's rich heritage and tradition, with its grand facade and \"\n",
      "  'intricate detailing.Just after that on front side you have view point from '\n",
      "  'which you can see the magnificent serpentine.\\r',\n",
      "  {'entities': [[43, 48, 'BUILDING'],\n",
      "                [193, 203, 'PLACES'],\n",
      "                [243, 253, 'LAKE']]}],\n",
      " [' \\r', {'entities': []}],\n",
      " ['Student counseling at the Indian Institute of Technology Guwahati (IIT '\n",
      "  'Guwahati or IITG) plays a crucial role in supporting the mental health and '\n",
      "  'well-being of its student community. In recent years, the issue of student '\n",
      "  'suicides has brought increased attention to the importance of mental health '\n",
      "  'services on campus. Recognizing the need for proactive intervention, the '\n",
      "  'institute has intensified its efforts to provide comprehensive counseling '\n",
      "  'and support mechanisms to students facing academic, personal, or emotional '\n",
      "  'challenges. Trained counselors offer confidential guidance and assistance '\n",
      "  'to students, helping them navigate through academic pressures, relationship '\n",
      "  'issues, and other stressors. Additionally, workshops, seminars, and '\n",
      "  'awareness campaigns are organized to promote mental health awareness and '\n",
      "  'resilience-building among students.\\r',\n",
      "  {'entities': []}],\n",
      " ['\\r', {'entities': []}],\n",
      " ['Unfortunately, the tragic incident of a first-year student from CSE '\n",
      "  'committed suicide in Brahmaputra which has underscored the urgent need for '\n",
      "  'enhanced mental health support within the campus community. This '\n",
      "  'heartbreaking event has prompted the institute to redouble its efforts in '\n",
      "  'implementing proactive measures to address mental health concerns and '\n",
      "  'provide timely intervention and support to students in distress. By '\n",
      "  'prioritizing student counseling and mental health support, IIT Guwahati '\n",
      "  'aims to create a nurturing and supportive campus environment where students '\n",
      "  'can thrive academically and personally while addressing the complex '\n",
      "  'challenges of mental health in academia.',\n",
      "  {'entities': [[64, 67, 'DEPARTMENT'], [89, 100, 'HOSTEL']]}]]\n"
     ]
    }
   ],
   "source": [
    "pprint(data)"
   ]
  },
  {
   "cell_type": "code",
   "execution_count": 16,
   "metadata": {},
   "outputs": [
    {
     "name": "stdout",
     "output_type": "stream",
     "text": [
      "('[[\"Established in 1994, the Indian Institute of Technology Guwahati (IIT '\n",
      " \"Guwahati or IITG) stands as one of India's premier engineering institutions. \"\n",
      " 'Nestled along the picturesque northern banks of the Brahmaputra River in '\n",
      " 'Guwahati, Assam, the institute offers a wide array of undergraduate, '\n",
      " 'postgraduate, and doctoral programs across engineering, science, and '\n",
      " 'humanities disciplines. Its sprawling 700-acre campus boasts '\n",
      " 'state-of-the-art infrastructure, including academic buildings, research '\n",
      " 'centers, hostels, sports facilities, and student activity centers, providing '\n",
      " 'an enriching environment for learning and '\n",
      " 'innovation.\\\\r\",{\"entities\":[[25,87,\"INSTITUTION\"],[220,235,\"PLACES\"]]}],[\"\\\\r\",{\"entities\":[]}],[\"Beyond '\n",
      " 'academics, IIT Guwahati fosters a vibrant student life with numerous clubs, '\n",
      " 'societies, and cultural events that cater to a diverse range of interests, '\n",
      " \"from music and dance to entrepreneurship initiatives. The institute's \"\n",
      " 'emphasis on research and innovation has led to significant contributions in '\n",
      " 'fields such as nanotechnology, biotechnology, renewable energy, and '\n",
      " 'environmental science, with a strong emphasis on interdisciplinary '\n",
      " 'collaboration and industry '\n",
      " 'partnerships.\\\\r\",{\"entities\":[]}],[\"\\\\r\",{\"entities\":[]}],[\"With a robust '\n",
      " 'placement record, IIT Guwahati attracts leading companies from around the '\n",
      " 'world, offering promising career opportunities to its graduates. Moreover, '\n",
      " 'its alumni network, comprising successful professionals across various '\n",
      " 'domains, further enhances its reputation and global reach. Additionally, the '\n",
      " 'institute is deeply committed to outreach and social initiatives, actively '\n",
      " 'engaging in projects aimed at promoting education, skill development, and '\n",
      " 'social welfare in the northeastern region of India, thereby embodying its '\n",
      " 'mission of academic excellence coupled with societal impact. Overall, IIT '\n",
      " 'Guwahati stands as a beacon of excellence in engineering education, '\n",
      " 'research, and community development, making it a preferred destination for '\n",
      " 'students aspiring to make a difference in the world of technology and '\n",
      " 'beyond.\\\\r\",{\"entities\":[]}],[\"\\\\r\",{\"entities\":[]}],[\"\\\\r\",{\"entities\":[]}],[\"Debsoc, '\n",
      " 'is currently hiring new members to join its dynamic team. Aspiring debaters '\n",
      " 'and public speakers are invited to apply and showcase their skills in '\n",
      " 'argumentation, persuasion, and critical thinking. Meanwhile, for students '\n",
      " 'interested in competitive programming, the institute will be conducting '\n",
      " 'orientation sessions for ICPC on the upcoming Saturday. These orientations '\n",
      " 'will provide valuable insights into the format, rules, and strategies for '\n",
      " 'participating in these prestigious programming competitions. Additionally, '\n",
      " 'the initial selection rounds for ICPC will commence alongside the '\n",
      " 'orientation allowing participants to kickstart their journey in competitive '\n",
      " 'programming and vie for a spot in the esteemed ICPC competition. Whether '\n",
      " 'students are passionate about debating or programming, these opportunities '\n",
      " 'offer a chance to enhance their skills, meet like-minded peers, and actively '\n",
      " 'engage in extracurricular pursuits at IIT '\n",
      " 'Guwahati.\\\\r\",{\"entities\":[[0,6,\"CLUB\"],[325,329,\"COMPETITIONS\"]]}],[\"\\\\r\",{\"entities\":[]}],[\"Just '\n",
      " 'outside the library at the Indian Institute of Technology Guwahati, students '\n",
      " 'can find a CCD outlet.\\\\r\",{\"entities\":[]}],[\"\\\\r\",{\"entities\":[]}],[\"In the '\n",
      " 'heart of the campus, nestled among lush green trees and well-manicured '\n",
      " 'lawns, IITG has home to the brightest and most talented students. Lohit was '\n",
      " 'spardha winner it has emerged victorious after a tough fight from '\n",
      " 'Brahmaputra. Just outside the gymkhana was Khoka, where students would often '\n",
      " 'celebrate on special occasion.  Students would gather around Khoka during '\n",
      " 'their breaks, chatting and laughing as they enjoyed their '\n",
      " 'snacks.\\\\r\",{\"entities\":[[144,149,\"HOSTEL\"],[220,232,\"HOSTEL\"],[250,258,\"BUILDING\"],[263,268,\"PLACES\"]]}],[\" '\n",
      " '\\\\r\",{\"entities\":[]}],[\"As you walk along Suryapath. you have core1 on left '\n",
      " 'with state of the art facilities. To your right is Core2, a bustling hub of '\n",
      " 'activity where students gather for group discussions and study sessions. '\n",
      " 'Further down the road, you come across Core3, Core3 is a cradle of '\n",
      " 'creativity and collaboration, where students work on projects that push the '\n",
      " 'boundaries of knowledge and '\n",
      " 'technology.\\\\r\",{\"entities\":[[18,28,\"ROAD\"],[38,43,\"BUILDING\"],[103,108,\"BUILDING\"],[247,252,\"BUILDING\"]]}],[\" '\n",
      " '\\\\r\",{\"entities\":[]}],[\"As you continue on your journey, you reach Core4 a '\n",
      " \"symbol of the institution's rich heritage and tradition, with its grand \"\n",
      " 'facade and intricate detailing.Just after that on front side you have view '\n",
      " 'point from which you can see the magnificent '\n",
      " 'serpentine.\\\\r\",{\"entities\":[[43,48,\"BUILDING\"],[193,203,\"PLACES\"],[243,253,\"LAKE\"]]}],[\" '\n",
      " '\\\\r\",{\"entities\":[]}],[\"Student counseling at the Indian Institute of '\n",
      " 'Technology Guwahati (IIT Guwahati or IITG) plays a crucial role in '\n",
      " 'supporting the mental health and well-being of its student community. In '\n",
      " 'recent years, the issue of student suicides has brought increased attention '\n",
      " 'to the importance of mental health services on campus. Recognizing the need '\n",
      " 'for proactive intervention, the institute has intensified its efforts to '\n",
      " 'provide comprehensive counseling and support mechanisms to students facing '\n",
      " 'academic, personal, or emotional challenges. Trained counselors offer '\n",
      " 'confidential guidance and assistance to students, helping them navigate '\n",
      " 'through academic pressures, relationship issues, and other stressors. '\n",
      " 'Additionally, workshops, seminars, and awareness campaigns are organized to '\n",
      " 'promote mental health awareness and resilience-building among '\n",
      " 'students.\\\\r\",{\"entities\":[]}],[\"\\\\r\",{\"entities\":[]}],[\"Unfortunately, the '\n",
      " 'tragic incident of a first-year student from CSE committed suicide in '\n",
      " 'Brahmaputra which has underscored the urgent need for enhanced mental health '\n",
      " 'support within the campus community. This heartbreaking event has prompted '\n",
      " 'the institute to redouble its efforts in implementing proactive measures to '\n",
      " 'address mental health concerns and provide timely intervention and support '\n",
      " 'to students in distress. By prioritizing student counseling and mental '\n",
      " 'health support, IIT Guwahati aims to create a nurturing and supportive '\n",
      " 'campus environment where students can thrive academically and personally '\n",
      " 'while addressing the complex challenges of mental health in '\n",
      " 'academia.\",{\"entities\":[[64,67,\"DEPARTMENT\"],[89,100,\"HOSTEL\"]]}]]')\n"
     ]
    }
   ],
   "source": [
    "file_path = '/home/raone/LLM Project/NER/iitg_annotations.json'\n",
    "pprint(Path(file_path).read_text())"
   ]
  },
  {
   "cell_type": "code",
   "execution_count": 18,
   "metadata": {},
   "outputs": [],
   "source": [
    "loader = JSONLoader(file_path=\"/home/raone/LLM Project/NER/iitg_annotations.json\", jq_schema=\".\", text_content=False)\n",
    "\n",
    "documents = loader.load()\n"
   ]
  },
  {
   "cell_type": "code",
   "execution_count": 19,
   "metadata": {},
   "outputs": [
    {
     "name": "stdout",
     "output_type": "stream",
     "text": [
      "[Document(page_content='[[\"Established in 1994, the Indian Institute of Technology Guwahati (IIT Guwahati or IITG) stands as one of India\\'s premier engineering institutions. Nestled along the picturesque northern banks of the Brahmaputra River in Guwahati, Assam, the institute offers a wide array of undergraduate, postgraduate, and doctoral programs across engineering, science, and humanities disciplines. Its sprawling 700-acre campus boasts state-of-the-art infrastructure, including academic buildings, research centers, hostels, sports facilities, and student activity centers, providing an enriching environment for learning and innovation.\\\\r\", {\\'entities\\': [[25, 87, \\'INSTITUTION\\'], [220, 235, \\'PLACES\\']]}], [\\'\\\\r\\', {\\'entities\\': []}], [\"Beyond academics, IIT Guwahati fosters a vibrant student life with numerous clubs, societies, and cultural events that cater to a diverse range of interests, from music and dance to entrepreneurship initiatives. The institute\\'s emphasis on research and innovation has led to significant contributions in fields such as nanotechnology, biotechnology, renewable energy, and environmental science, with a strong emphasis on interdisciplinary collaboration and industry partnerships.\\\\r\", {\\'entities\\': []}], [\\'\\\\r\\', {\\'entities\\': []}], [\\'With a robust placement record, IIT Guwahati attracts leading companies from around the world, offering promising career opportunities to its graduates. Moreover, its alumni network, comprising successful professionals across various domains, further enhances its reputation and global reach. Additionally, the institute is deeply committed to outreach and social initiatives, actively engaging in projects aimed at promoting education, skill development, and social welfare in the northeastern region of India, thereby embodying its mission of academic excellence coupled with societal impact. Overall, IIT Guwahati stands as a beacon of excellence in engineering education, research, and community development, making it a preferred destination for students aspiring to make a difference in the world of technology and beyond.\\\\r\\', {\\'entities\\': []}], [\\'\\\\r\\', {\\'entities\\': []}], [\\'\\\\r\\', {\\'entities\\': []}], [\\'Debsoc, is currently hiring new members to join its dynamic team. Aspiring debaters and public speakers are invited to apply and showcase their skills in argumentation, persuasion, and critical thinking. Meanwhile, for students interested in competitive programming, the institute will be conducting orientation sessions for ICPC on the upcoming Saturday. These orientations will provide valuable insights into the format, rules, and strategies for participating in these prestigious programming competitions. Additionally, the initial selection rounds for ICPC will commence alongside the orientation allowing participants to kickstart their journey in competitive programming and vie for a spot in the esteemed ICPC competition. Whether students are passionate about debating or programming, these opportunities offer a chance to enhance their skills, meet like-minded peers, and actively engage in extracurricular pursuits at IIT Guwahati.\\\\r\\', {\\'entities\\': [[0, 6, \\'CLUB\\'], [325, 329, \\'COMPETITIONS\\']]}], [\\'\\\\r\\', {\\'entities\\': []}], [\\'Just outside the library at the Indian Institute of Technology Guwahati, students can find a CCD outlet.\\\\r\\', {\\'entities\\': []}], [\\'\\\\r\\', {\\'entities\\': []}], [\\'In the heart of the campus, nestled among lush green trees and well-manicured lawns, IITG has home to the brightest and most talented students. Lohit was spardha winner it has emerged victorious after a tough fight from Brahmaputra. Just outside the gymkhana was Khoka, where students would often celebrate on special occasion.  Students would gather around Khoka during their breaks, chatting and laughing as they enjoyed their snacks.\\\\r\\', {\\'entities\\': [[144, 149, \\'HOSTEL\\'], [220, 232, \\'HOSTEL\\'], [250, 258, \\'BUILDING\\'], [263, 268, \\'PLACES\\']]}], [\\' \\\\r\\', {\\'entities\\': []}], [\\'As you walk along Suryapath. you have core1 on left with state of the art facilities. To your right is Core2, a bustling hub of activity where students gather for group discussions and study sessions. Further down the road, you come across Core3, Core3 is a cradle of creativity and collaboration, where students work on projects that push the boundaries of knowledge and technology.\\\\r\\', {\\'entities\\': [[18, 28, \\'ROAD\\'], [38, 43, \\'BUILDING\\'], [103, 108, \\'BUILDING\\'], [247, 252, \\'BUILDING\\']]}], [\\' \\\\r\\', {\\'entities\\': []}], [\"As you continue on your journey, you reach Core4 a symbol of the institution\\'s rich heritage and tradition, with its grand facade and intricate detailing.Just after that on front side you have view point from which you can see the magnificent serpentine.\\\\r\", {\\'entities\\': [[43, 48, \\'BUILDING\\'], [193, 203, \\'PLACES\\'], [243, 253, \\'LAKE\\']]}], [\\' \\\\r\\', {\\'entities\\': []}], [\\'Student counseling at the Indian Institute of Technology Guwahati (IIT Guwahati or IITG) plays a crucial role in supporting the mental health and well-being of its student community. In recent years, the issue of student suicides has brought increased attention to the importance of mental health services on campus. Recognizing the need for proactive intervention, the institute has intensified its efforts to provide comprehensive counseling and support mechanisms to students facing academic, personal, or emotional challenges. Trained counselors offer confidential guidance and assistance to students, helping them navigate through academic pressures, relationship issues, and other stressors. Additionally, workshops, seminars, and awareness campaigns are organized to promote mental health awareness and resilience-building among students.\\\\r\\', {\\'entities\\': []}], [\\'\\\\r\\', {\\'entities\\': []}], [\\'Unfortunately, the tragic incident of a first-year student from CSE committed suicide in Brahmaputra which has underscored the urgent need for enhanced mental health support within the campus community. This heartbreaking event has prompted the institute to redouble its efforts in implementing proactive measures to address mental health concerns and provide timely intervention and support to students in distress. By prioritizing student counseling and mental health support, IIT Guwahati aims to create a nurturing and supportive campus environment where students can thrive academically and personally while addressing the complex challenges of mental health in academia.\\', {\\'entities\\': [[64, 67, \\'DEPARTMENT\\'], [89, 100, \\'HOSTEL\\']]}]]', metadata={'source': '/home/raone/LLM Project/NER/iitg_annotations.json', 'seq_num': 1})]\n"
     ]
    }
   ],
   "source": [
    "pprint(documents)"
   ]
  },
  {
   "cell_type": "code",
   "execution_count": null,
   "metadata": {},
   "outputs": [],
   "source": [
    "vectorstore = DocArrayInMemorySearch.from_documents(documents, embedding=embeddings)"
   ]
  },
  {
   "cell_type": "code",
   "execution_count": null,
   "metadata": {},
   "outputs": [
    {
     "data": {
      "text/plain": [
       "<langchain_community.vectorstores.docarray.in_memory.DocArrayInMemorySearch at 0x7fe13087e0d0>"
      ]
     },
     "execution_count": 64,
     "metadata": {},
     "output_type": "execute_result"
    }
   ],
   "source": [
    "vectorstore"
   ]
  },
  {
   "cell_type": "code",
   "execution_count": null,
   "metadata": {},
   "outputs": [
    {
     "data": {
      "text/plain": [
       "[Document(page_content='{\"Students\": [{\"Name\": \"John\", \"ID\": \"S001\", \"Marks\": 85}, {\"Name\": \"Emma\", \"ID\": \"S002\", \"Marks\": 92}, {\"Name\": \"Michael\", \"ID\": \"S003\", \"Marks\": 78}, {\"Name\": \"Sophia\", \"ID\": \"S004\", \"Marks\": 94}, {\"Name\": \"William\", \"ID\": \"S005\", \"Marks\": 87}, {\"Name\": \"Olivia\", \"ID\": \"S006\", \"Marks\": 91}, {\"Name\": \"James\", \"ID\": \"S007\", \"Marks\": 80}, {\"Name\": \"Amelia\", \"ID\": \"S008\", \"Marks\": 89}, {\"Name\": \"Benjamin\", \"ID\": \"S009\", \"Marks\": 83}, {\"Name\": \"Isabella\", \"ID\": \"S010\", \"Marks\": 95}, {\"Name\": \"Alexander\", \"ID\": \"S011\", \"Marks\": 76}, {\"Name\": \"Mia\", \"ID\": \"S012\", \"Marks\": 90}, {\"Name\": \"Daniel\", \"ID\": \"S013\", \"Marks\": 88}, {\"Name\": \"Elijah\", \"ID\": \"S014\", \"Marks\": 82}, {\"Name\": \"Charlotte\", \"ID\": \"S015\", \"Marks\": 93}, {\"Name\": \"Ava\", \"ID\": \"S016\", \"Marks\": 84}, {\"Name\": \"William\", \"ID\": \"S017\", \"Marks\": 79}, {\"Name\": \"Evelyn\", \"ID\": \"S018\", \"Marks\": 96}, {\"Name\": \"Matthew\", \"ID\": \"S019\", \"Marks\": 75}, {\"Name\": \"Harper\", \"ID\": \"S020\", \"Marks\": 97}, {\"Name\": \"Andrew\", \"ID\": \"S021\", \"Marks\": 86}, {\"Name\": \"Sofia\", \"ID\": \"S022\", \"Marks\": 81}, {\"Name\": \"Jack\", \"ID\": \"S023\", \"Marks\": 98}, {\"Name\": \"Elizabeth\", \"ID\": \"S024\", \"Marks\": 77}, {\"Name\": \"Christopher\", \"ID\": \"S025\", \"Marks\": 85}, {\"Name\": \"Grace\", \"ID\": \"S026\", \"Marks\": 92}, {\"Name\": \"Ryan\", \"ID\": \"S027\", \"Marks\": 78}, {\"Name\": \"Liam\", \"ID\": \"S028\", \"Marks\": 94}, {\"Name\": \"Lily\", \"ID\": \"S029\", \"Marks\": 87}, {\"Name\": \"Joseph\", \"ID\": \"S030\", \"Marks\": 91}, {\"Name\": \"David\", \"ID\": \"S031\", \"Marks\": 80}, {\"Name\": \"Emma\", \"ID\": \"S032\", \"Marks\": 89}, {\"Name\": \"Lucas\", \"ID\": \"S033\", \"Marks\": 83}, {\"Name\": \"Sophia\", \"ID\": \"S034\", \"Marks\": 95}, {\"Name\": \"Mason\", \"ID\": \"S035\", \"Marks\": 76}, {\"Name\": \"Ava\", \"ID\": \"S036\", \"Marks\": 90}, {\"Name\": \"Daniel\", \"ID\": \"S037\", \"Marks\": 88}, {\"Name\": \"Ethan\", \"ID\": \"S038\", \"Marks\": 82}, {\"Name\": \"Olivia\", \"ID\": \"S039\", \"Marks\": 93}, {\"Name\": \"Emily\", \"ID\": \"S040\", \"Marks\": 84}, {\"Name\": \"Elijah\", \"ID\": \"S041\", \"Marks\": 79}, {\"Name\": \"Benjamin\", \"ID\": \"S042\", \"Marks\": 96}, {\"Name\": \"Liam\", \"ID\": \"S043\", \"Marks\": 75}, {\"Name\": \"Ava\", \"ID\": \"S044\", \"Marks\": 97}, {\"Name\": \"Mia\", \"ID\": \"S045\", \"Marks\": 86}, {\"Name\": \"William\", \"ID\": \"S046\", \"Marks\": 81}, {\"Name\": \"Charlotte\", \"ID\": \"S047\", \"Marks\": 98}, {\"Name\": \"Michael\", \"ID\": \"S048\", \"Marks\": 77}, {\"Name\": \"Ella\", \"ID\": \"S049\", \"Marks\": 85}, {\"Name\": \"Liam\", \"ID\": \"S050\", \"Marks\": 92}]}', metadata={'source': '/home/raone/local/b.json', 'seq_num': 1})]"
      ]
     },
     "execution_count": 58,
     "metadata": {},
     "output_type": "execute_result"
    }
   ],
   "source": [
    "retriever = vectorstore.as_retriever()\n",
    "retriever.invoke(\"marks\")"
   ]
  },
  {
   "cell_type": "code",
   "execution_count": null,
   "metadata": {},
   "outputs": [
    {
     "data": {
      "text/plain": [
       "VectorStoreRetriever(tags=['DocArrayInMemorySearch'], vectorstore=<langchain_community.vectorstores.docarray.in_memory.DocArrayInMemorySearch object at 0x7fe13087e0d0>)"
      ]
     },
     "execution_count": 65,
     "metadata": {},
     "output_type": "execute_result"
    }
   ],
   "source": [
    "retriever"
   ]
  },
  {
   "cell_type": "code",
   "execution_count": null,
   "metadata": {},
   "outputs": [],
   "source": [
    "from operator import itemgetter\n",
    "\n",
    "chain = (\n",
    "    {\n",
    "        \"context\": itemgetter(\"question\") | retriever,\n",
    "        \"question\": itemgetter(\"question\"),\n",
    "    }\n",
    "    | prompt\n",
    "    | model\n",
    "    | parser\n",
    ")"
   ]
  },
  {
   "cell_type": "code",
   "execution_count": null,
   "metadata": {},
   "outputs": [
    {
     "name": "stdout",
     "output_type": "stream",
     "text": [
      "Question: how many marks Jack got?\n",
      "Answer:  Based on the provided JSON data, Jack has a mark of 98.\n",
      "\n"
     ]
    }
   ],
   "source": [
    "questions = [\n",
    "    \"how many marks Jack got?\"\n",
    "]\n",
    "\n",
    "for question in questions:\n",
    "    print(f\"Question: {question}\")\n",
    "    print(f\"Answer: {chain.invoke({'question': question})}\")\n",
    "    print()\n",
    "   "
   ]
  }
 ],
 "metadata": {
  "kernelspec": {
   "display_name": "Python 3",
   "language": "python",
   "name": "python3"
  },
  "language_info": {
   "codemirror_mode": {
    "name": "ipython",
    "version": 3
   },
   "file_extension": ".py",
   "mimetype": "text/x-python",
   "name": "python",
   "nbconvert_exporter": "python",
   "pygments_lexer": "ipython3",
   "version": "3.11.0"
  },
  "orig_nbformat": 4
 },
 "nbformat": 4,
 "nbformat_minor": 2
}
