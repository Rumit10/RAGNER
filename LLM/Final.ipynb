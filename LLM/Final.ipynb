{
 "cells": [
  {
   "cell_type": "code",
   "execution_count": 1,
   "metadata": {},
   "outputs": [
    {
     "name": "stdout",
     "output_type": "stream",
     "text": [
      "llama2\n"
     ]
    }
   ],
   "source": [
    "MODEL = \"llama2\"\n",
    "print(MODEL)"
   ]
  },
  {
   "cell_type": "code",
   "execution_count": 2,
   "metadata": {},
   "outputs": [],
   "source": [
    "from langchain_community.llms import Ollama\n",
    "from langchain_community.embeddings import OllamaEmbeddings\n",
    "\n",
    "model = Ollama(model=MODEL)\n",
    "embeddings = OllamaEmbeddings(model=MODEL)\n"
   ]
  },
  {
   "cell_type": "code",
   "execution_count": 3,
   "metadata": {},
   "outputs": [],
   "source": [
    "from langchain_core.output_parsers import StrOutputParser\n",
    "\n",
    "parser = StrOutputParser()"
   ]
  },
  {
   "cell_type": "code",
   "execution_count": 4,
   "metadata": {},
   "outputs": [
    {
     "data": {
      "text/plain": [
       "'\\nAnswer the question based on the context below. If you can\\'t \\nanswer the question, reply \"I don\\'t know\".\\n\\nContext: Here is some context\\n\\nQuestion: Here is a question\\n'"
      ]
     },
     "execution_count": 4,
     "metadata": {},
     "output_type": "execute_result"
    }
   ],
   "source": [
    "from langchain.prompts import PromptTemplate\n",
    "\n",
    "template = \"\"\"\n",
    "Answer the question based on the context below. If you can't \n",
    "answer the question, reply \"I don't know\".\n",
    "\n",
    "Context: {context}\n",
    "\n",
    "Question: {question}\n",
    "\"\"\"\n",
    "\n",
    "prompt = PromptTemplate.from_template(template)\n",
    "prompt.format(context=\"Here is some context\", question=\"Here is a question\")"
   ]
  },
  {
   "cell_type": "code",
   "execution_count": 5,
   "metadata": {},
   "outputs": [
    {
     "data": {
      "text/plain": [
       "[Document(page_content=\"IITG was Established in 1994. Nestled along the picturesque northern banks of the Brahmaputra River in \\nGuwahati, Assam, the institute offers a wide array of undergraduate, postgraduate, and doctoral \\nprograms across engineering, science, and humanities disciplines. Its sprawling 700-acre campus boasts \\nstate-of-the-art infrastructure, including academic buildings, research centers, hostels, sports facilities, \\nand student activity centers, providing an enriching environment for learning and innovation.  \\n  \\nBeyond academics, IIT Guwahati fosters a vibrant student life with numerous clubs, societies, and cultural\\nevents that cater to a diverse range of interests, from music and dance to entrepreneurship initiatives. \\nThe institute's emphasis on research and innovation has led to significant contributions in fields such as \\nnanotechnology, biotechnology, renewable energy, and environmental science, with a strong emphasis \\non interdisciplinary collaboration and industry partnerships.  \\n  \\nWith a robust placement record, IIT Guwahati attracts leading companies from around the world, offering \\npromising career opportunities to its graduates. Moreover, its alumni network, comprising successful \\nprofessionals across various domains, further enhances its reputation and global reach. Additionally, the \\ninstitute is deeply committed to outreach and social initiatives, actively engaging in projects aimed at \\npromoting education, skill development, and social welfare in the northeastern region of India, thereby \\nembodying its mission of academic excellence coupled with societal impact. Overall, IIT Guwahati stands \\nas a beacon of excellence in engineering education, research, and community development, making it a \\npreferred destination for students aspiring to make a difference in the world of technology and beyond.  \\n  \\nDebsoc, is currently hiring new members to join its dynamic team. Aspiring debaters and public speakers \\nare invited to apply and showcase their skills in argumentation, persuasion, and critical thinking. \\nMeanwhile, for students interested in competitive programming, the institute will be conducting orientation\\nsessions for ICPC on the upcoming Saturday. These orientations will provide valuable insights into the \\nformat, rules, and strategies for participating in these prestigious programming competitions. Additionally, \\nthe initial selection rounds for ICPC will commence alongside the orientation allowing participants to \\nkickstart their journey in competitive programming and via for a spot in the esteemed ICPC competition. \\nWhether students are passionate about debating or programming, these opportunities offer a chance to \\nenhance their skills, meet like-minded peers, and actively engage in extracurricular pursuits at IIT \\nGuwahati.  \\n  \\nJust outside the library at the Indian Institute of Technology Guwahati, students can find a CCD outlet.  \\n  \\nIn the heart of the campus, nestled among lush green trees and well-manicured lawns, IITG has home to \\nthe brightest and most talented students. Lohit was spardha winner it has emerged victorious after a \\ntough fight from Dihing. There are many restaurants, but Siang has the best food although Manas still \\ntops the list of number of visitors per day. Just outside the gymkhana was Khoka, where students would \\noften celebrate on special occasion.  Students would gather around Khoka during their breaks, chatting \\nand laughing as they enjoyed their snacks.  \\n   \\nAs you walk along Suryapath. you have core1 on left, to your right is Core2. Further down the road, you \\ncome across Core3.  \\nAs you continue on your journey, you reach Core4 a symbol of the institution's rich heritage and tradition, \\nwith its grand facade and intricate detailing. Just after that on front side you have view point from which \\nyou can see the magnificent serpentine.  \\n   \\nStudent counseling at the Indian Institute of Technology Guwahati (IIT Guwahati or IITG) plays a crucial\", metadata={'source': 'iitg_dataset.pdf', 'page': 0}),\n",
       " Document(page_content='you can see the magnificent serpentine.  \\n   \\nStudent counseling at the Indian Institute of Technology Guwahati (IIT Guwahati or IITG) plays a crucial \\nrole in supporting the mental health and well-being of its student community. In recent years, the issue of \\nstudent suicides has brought increased attention to the importance of mental health services on campus. \\nRecognizing the need for proactive intervention, the institute has intensified its efforts to provide \\ncomprehensive counseling and support mechanisms to students facing academic, personal, or emotional \\nchallenges. Trained counselors offer confidential guidance and assistance to students, helping them \\nnavigate through academic pressures, relationship issues, and other stressors. Additionally, workshops, \\nseminars, and awareness campaigns are organized to promote mental health awareness and', metadata={'source': 'iitg_dataset.pdf', 'page': 0}),\n",
       " Document(page_content='resilience-building among students.  \\n  \\nUnfortunately, the tragic incident of a first-year student from CSE committed suicide in Brahmaputra \\nwhich has underscored the urgent need for enhanced mental health support within the campus \\ncommunity.This heartbreaking event has prompted the institute to redouble its efforts in implementing \\nproactive measures to address mental health concerns and provide timely intervention and support to \\nstudents in distress. By prioritizing student counseling and mental health support, IIT Guwahati aims to \\ncreate a nurturing and supportive campus environment where students can thrive academically and \\npersonally while addressing the complex challenges of mental health in academia.', metadata={'source': 'iitg_dataset.pdf', 'page': 1})]"
      ]
     },
     "execution_count": 5,
     "metadata": {},
     "output_type": "execute_result"
    }
   ],
   "source": [
    "from langchain_community.document_loaders import PyPDFLoader\n",
    "\n",
    "loader = PyPDFLoader(\"iitg_dataset.pdf\")\n",
    "pages = loader.load_and_split()\n",
    "pages"
   ]
  },
  {
   "cell_type": "code",
   "execution_count": 6,
   "metadata": {},
   "outputs": [
    {
     "name": "stderr",
     "output_type": "stream",
     "text": [
      "/home/raone/LLM Project/.venv/lib/python3.11/site-packages/pydantic/_migration.py:283: UserWarning: `pydantic.error_wrappers:ValidationError` has been moved to `pydantic:ValidationError`.\n",
      "  warnings.warn(f'`{import_path}` has been moved to `{new_location}`.')\n"
     ]
    }
   ],
   "source": [
    "from langchain_community.vectorstores import DocArrayInMemorySearch\n",
    "    \n",
    "vectorstore_RAG = DocArrayInMemorySearch.from_documents(pages, embedding=embeddings)"
   ]
  },
  {
   "cell_type": "code",
   "execution_count": 7,
   "metadata": {},
   "outputs": [],
   "source": [
    "retriever = vectorstore_RAG.as_retriever()"
   ]
  },
  {
   "cell_type": "code",
   "execution_count": 8,
   "metadata": {},
   "outputs": [],
   "source": [
    "from operator import itemgetter\n",
    "\n",
    "chain = (\n",
    "    {\n",
    "        \"context\": itemgetter(\"question\") | retriever,\n",
    "        \"question\": itemgetter(\"question\"),\n",
    "    }\n",
    "    | prompt\n",
    "    | model\n",
    "    | parser\n",
    ")"
   ]
  },
  {
   "cell_type": "code",
   "execution_count": 9,
   "metadata": {},
   "outputs": [
    {
     "name": "stdout",
     "output_type": "stream",
     "text": [
      "Question: List all the hostels in IITG?\n",
      "Answer: Based on the provided document, there are several mentions of hostels in IIT Guwahati. Here is a list of hostels mentioned:\n",
      "\n",
      "1. Hostel-1 (Core1)\n",
      "2. Hostel-2 (Core2)\n",
      "3. Hostel-3 (Core3)\n",
      "4. Hostel-4 (View Point)\n",
      "5. Siang Hostel (restaurant located outside the library)\n",
      "6. Dihing Hostel (winner of Spardha competition)\n",
      "7. Manas Hostel (has the most visitors per day)\n",
      "8. Khoka Hostel (location for student gatherings and celebrations)\n",
      "\n",
      "Please note that this list is based on the information provided in the document and may not be exhaustive or up-to-date.\n",
      "\n"
     ]
    }
   ],
   "source": [
    "questions = [\n",
    "        \"List all the hostels in IITG?\"\n",
    "]\n",
    "\n",
    "for question in questions:\n",
    "    print(f\"Question: {question}\")\n",
    "    print(f\"Answer: {chain.invoke({'question': question})}\")\n",
    "    print()"
   ]
  },
  {
   "cell_type": "code",
   "execution_count": 10,
   "metadata": {},
   "outputs": [
    {
     "data": {
      "text/plain": [
       "[Document(page_content=\"IITG was Established in 1994. Nestled along the picturesque northern banks of the Brahmaputra River in \\nGuwahati, Assam, the institute offers a wide array of undergraduate, postgraduate, and doctoral \\nprograms across engineering, science, and humanities disciplines. Its sprawling 700-acre campus boasts \\nstate-of-the-art infrastructure, including academic buildings, research centers, hostels, sports facilities, \\nand student activity centers, providing an enriching environment for learning and innovation.  \\n  \\nBeyond academics, IIT Guwahati fosters a vibrant student life with numerous clubs, societies, and cultural\\nevents that cater to a diverse range of interests, from music and dance to entrepreneurship initiatives. \\nThe institute's emphasis on research and innovation has led to significant contributions in fields such as \\nnanotechnology, biotechnology, renewable energy, and environmental science, with a strong emphasis \\non interdisciplinary collaboration and industry partnerships.  \\n  \\nWith a robust placement record, IIT Guwahati attracts leading companies from around the world, offering \\npromising career opportunities to its graduates. Moreover, its alumni network, comprising successful \\nprofessionals across various domains, further enhances its reputation and global reach. Additionally, the \\ninstitute is deeply committed to outreach and social initiatives, actively engaging in projects aimed at \\npromoting education, skill development, and social welfare in the northeastern region of India, thereby \\nembodying its mission of academic excellence coupled with societal impact. Overall, IIT Guwahati stands \\nas a beacon of excellence in engineering education, research, and community development, making it a \\npreferred destination for students aspiring to make a difference in the world of technology and beyond.  \\n  \\nDebsoc, is currently hiring new members to join its dynamic team. Aspiring debaters and public speakers \\nare invited to apply and showcase their skills in argumentation, persuasion, and critical thinking. \\nMeanwhile, for students interested in competitive programming, the institute will be conducting orientation\\nsessions for ICPC on the upcoming Saturday. These orientations will provide valuable insights into the \\nformat, rules, and strategies for participating in these prestigious programming competitions. Additionally, \\nthe initial selection rounds for ICPC will commence alongside the orientation allowing participants to \\nkickstart their journey in competitive programming and via for a spot in the esteemed ICPC competition. \\nWhether students are passionate about debating or programming, these opportunities offer a chance to \\nenhance their skills, meet like-minded peers, and actively engage in extracurricular pursuits at IIT \\nGuwahati.  \\n  \\nJust outside the library at the Indian Institute of Technology Guwahati, students can find a CCD outlet.  \\n  \\nIn the heart of the campus, nestled among lush green trees and well-manicured lawns, IITG has home to \\nthe brightest and most talented students. Lohit was spardha winner it has emerged victorious after a \\ntough fight from Dihing. There are many restaurants, but Siang has the best food although Manas still \\ntops the list of number of visitors per day. Just outside the gymkhana was Khoka, where students would \\noften celebrate on special occasion.  Students would gather around Khoka during their breaks, chatting \\nand laughing as they enjoyed their snacks.  \\n   \\nAs you walk along Suryapath. you have core1 on left, to your right is Core2. Further down the road, you \\ncome across Core3.  \\nAs you continue on your journey, you reach Core4 a symbol of the institution's rich heritage and tradition, \\nwith its grand facade and intricate detailing. Just after that on front side you have view point from which \\nyou can see the magnificent serpentine.  \\n   \\nStudent counseling at the Indian Institute of Technology Guwahati (IIT Guwahati or IITG) plays a crucial\", metadata={'source': 'iitg_dataset.pdf', 'page': 0}),\n",
       " Document(page_content='you can see the magnificent serpentine.  \\n   \\nStudent counseling at the Indian Institute of Technology Guwahati (IIT Guwahati or IITG) plays a crucial \\nrole in supporting the mental health and well-being of its student community. In recent years, the issue of \\nstudent suicides has brought increased attention to the importance of mental health services on campus. \\nRecognizing the need for proactive intervention, the institute has intensified its efforts to provide \\ncomprehensive counseling and support mechanisms to students facing academic, personal, or emotional \\nchallenges. Trained counselors offer confidential guidance and assistance to students, helping them \\nnavigate through academic pressures, relationship issues, and other stressors. Additionally, workshops, \\nseminars, and awareness campaigns are organized to promote mental health awareness and', metadata={'source': 'iitg_dataset.pdf', 'page': 0}),\n",
       " Document(page_content='resilience-building among students.  \\n  \\nUnfortunately, the tragic incident of a first-year student from CSE committed suicide in Brahmaputra \\nwhich has underscored the urgent need for enhanced mental health support within the campus \\ncommunity.This heartbreaking event has prompted the institute to redouble its efforts in implementing \\nproactive measures to address mental health concerns and provide timely intervention and support to \\nstudents in distress. By prioritizing student counseling and mental health support, IIT Guwahati aims to \\ncreate a nurturing and supportive campus environment where students can thrive academically and \\npersonally while addressing the complex challenges of mental health in academia.', metadata={'source': 'iitg_dataset.pdf', 'page': 1}),\n",
       " Document(page_content=\"[['Brahmaputra is HOSTEL'], ['nanotechnology is DEPARTMENT'], ['biotechnology is DEPARTMENT'], ['renewable energy is DEPARTMENT'], ['environmental science is DEPARTMENT'], ['Debsoc is CLUB'], ['ICPC is CLUB'], ['CCD is PLACES'], ['Lohit is HOSTEL'], ['Dihing. is HOSTEL'], ['Siang is HOSTEL'], ['Manas is HOSTEL'], ['Khoka is PLACES'], ['Suryapath. is ROAD'], ['core1 is BUILDING'], ['Core2. is BUILDING'], ['Core3 is BUILDING'], ['Core4 is BUILDING'], ['serpentine is LAKE'], ['serpentine is LAKE'], ['Brahmaputra is HOSTEL']]\", metadata={'line_number': 0, 'source': './NER.txt'})]"
      ]
     },
     "execution_count": 10,
     "metadata": {},
     "output_type": "execute_result"
    }
   ],
   "source": [
    "import spacy\n",
    "\n",
    "nlp = spacy.load(\"/home/raone/LLM Project/NER/model-best\")\n",
    "\n",
    "all_data = []\n",
    "\n",
    "for i in range(len(pages)):\n",
    "    doc = nlp(pages[i].page_content)\n",
    "    for ent in doc.ents:\n",
    "        data = \" is \".join([ent.text, ent.label_])  # Join the elements with \" is \"\n",
    "        all_data.append([data])  # Append the formatted data as a list to all_data\n",
    "\n",
    "all_data\n",
    "\n",
    "from typing import AsyncIterator, Iterator\n",
    "\n",
    "from langchain_core.document_loaders import BaseLoader\n",
    "from langchain_core.documents import Document\n",
    "\n",
    "\n",
    "class CustomDocumentLoader(BaseLoader):\n",
    "    \"\"\"An example document loader that reads a file line by line.\"\"\"\n",
    "\n",
    "    def __init__(self, file_path: str) -> None:\n",
    "        \"\"\"Initialize the loader with a file path.\n",
    "\n",
    "        Args:\n",
    "            file_path: The path to the file to load.\n",
    "        \"\"\"\n",
    "        self.file_path = file_path\n",
    "\n",
    "    def lazy_load(self) -> Iterator[Document]:  # <-- Does not take any arguments\n",
    "        \"\"\"A lazy loader that reads a file line by line.\n",
    "\n",
    "        When you're implementing lazy load methods, you should use a generator\n",
    "        to yield documents one by one.\n",
    "        \"\"\"\n",
    "        with open(self.file_path, encoding=\"utf-8\") as f:\n",
    "            line_number = 0\n",
    "            for line in f:\n",
    "                yield Document(\n",
    "                    page_content=line,\n",
    "                    metadata={\"line_number\": line_number, \"source\": self.file_path},\n",
    "                )\n",
    "                line_number += 1\n",
    "\n",
    "\n",
    "with open(\"./NER.txt\", \"w\", encoding=\"utf-8\") as f:\n",
    "    #quality_content = \"meow meow🐱 \\n meow meow🐱 \\n meow😻😻\"\n",
    "    f.write(str(all_data))\n",
    "\n",
    "CustomDocumentLoader = CustomDocumentLoader(\"./NER.txt\")\n",
    "CustomDocumentLoader.load()\n",
    "\n",
    "pages += CustomDocumentLoader.load()\n",
    "pages\n"
   ]
  },
  {
   "cell_type": "markdown",
   "metadata": {},
   "source": []
  },
  {
   "cell_type": "code",
   "execution_count": 11,
   "metadata": {},
   "outputs": [],
   "source": [
    "from langchain_community.vectorstores import DocArrayInMemorySearch\n",
    "    \n",
    "vectorstore_NER = DocArrayInMemorySearch.from_documents(pages, embedding=embeddings)"
   ]
  },
  {
   "cell_type": "code",
   "execution_count": 12,
   "metadata": {},
   "outputs": [],
   "source": [
    "retriever = vectorstore_NER.as_retriever()"
   ]
  },
  {
   "cell_type": "code",
   "execution_count": 13,
   "metadata": {},
   "outputs": [],
   "source": [
    "from operator import itemgetter\n",
    "\n",
    "chain = (\n",
    "    {\n",
    "        \"context\": itemgetter(\"question\") | retriever,\n",
    "        \"question\": itemgetter(\"question\"),\n",
    "    }\n",
    "    | prompt\n",
    "    | model\n",
    "    | parser\n",
    ")"
   ]
  },
  {
   "cell_type": "code",
   "execution_count": 14,
   "metadata": {},
   "outputs": [
    {
     "name": "stdout",
     "output_type": "stream",
     "text": [
      "Question: List all the hostels in IITG?\n",
      "Answer: Based on the provided document, the following are the hostels in IIT Guwahati:\n",
      "\n",
      "1. Lohit\n",
      "2. Dihing.\n",
      "3. Siang\n",
      "4. Manas\n",
      "5. Brahmaputra (mentioned as HOSTEL)\n",
      "\n"
     ]
    }
   ],
   "source": [
    "\n",
    "\n",
    "questions = [\n",
    "    \"List all the hostels in IITG?\"\n",
    "]\n",
    "for question in questions:\n",
    "    print(f\"Question: {question}\")\n",
    "    print(f\"Answer: {chain.invoke({'question': question})}\")\n",
    "    print()\n",
    "\n"
   ]
  },
  {
   "cell_type": "code",
   "execution_count": null,
   "metadata": {},
   "outputs": [],
   "source": []
  }
 ],
 "metadata": {
  "kernelspec": {
   "display_name": ".venv",
   "language": "python",
   "name": "python3"
  },
  "language_info": {
   "codemirror_mode": {
    "name": "ipython",
    "version": 3
   },
   "file_extension": ".py",
   "mimetype": "text/x-python",
   "name": "python",
   "nbconvert_exporter": "python",
   "pygments_lexer": "ipython3",
   "version": "3.11.0rc1"
  },
  "orig_nbformat": 4
 },
 "nbformat": 4,
 "nbformat_minor": 2
}
