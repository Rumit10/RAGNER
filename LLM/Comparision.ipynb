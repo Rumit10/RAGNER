{
 "cells": [
  {
   "cell_type": "code",
   "execution_count": 1,
   "metadata": {},
   "outputs": [
    {
     "name": "stderr",
     "output_type": "stream",
     "text": [
      "[nltk_data] Downloading package punkt to /home/raone/nltk_data...\n",
      "[nltk_data]   Package punkt is already up-to-date!\n",
      "[nltk_data] Downloading package stopwords to /home/raone/nltk_data...\n",
      "[nltk_data]   Package stopwords is already up-to-date!\n",
      "[nltk_data] Downloading package wordnet to /home/raone/nltk_data...\n",
      "[nltk_data] Downloading package averaged_perceptron_tagger to\n",
      "[nltk_data]     /home/raone/nltk_data...\n",
      "[nltk_data]   Unzipping taggers/averaged_perceptron_tagger.zip.\n"
     ]
    }
   ],
   "source": [
    "import nltk\n",
    "from nltk.corpus import stopwords\n",
    "from nltk.tokenize import word_tokenize\n",
    "from nltk.stem import WordNetLemmatizer\n",
    "from nltk.corpus import wordnet\n",
    "from nltk.metrics import jaccard_distance\n",
    "\n",
    "# Download NLTK resources if not already downloaded\n",
    "nltk.download('punkt')\n",
    "nltk.download('stopwords')\n",
    "nltk.download('wordnet')\n",
    "nltk.download('averaged_perceptron_tagger')  # Added this line\n",
    "\n",
    "def preprocess(sentence):\n",
    "    # Tokenize the sentence\n",
    "    tokens = word_tokenize(sentence)\n",
    "    # Lowercase all words\n",
    "    tokens = [word.lower() for word in tokens]\n",
    "    # Remove stopwords\n",
    "    stop_words = set(stopwords.words('english'))\n",
    "    filtered_tokens = [word for word in tokens if word not in stop_words]\n",
    "    # Lemmatization\n",
    "    lemmatizer = WordNetLemmatizer()\n",
    "    lemmatized_tokens = [lemmatizer.lemmatize(word, get_wordnet_pos(word)) for word in filtered_tokens]\n",
    "    return lemmatized_tokens\n",
    "\n",
    "def get_wordnet_pos(word):\n",
    "    \"\"\"Map POS tag to first character lemmatize() accepts\"\"\"\n",
    "    tag = nltk.pos_tag([word])[0][1][0].upper()\n",
    "    tag_dict = {\"J\": wordnet.ADJ,\n",
    "                \"N\": wordnet.NOUN,\n",
    "                \"V\": wordnet.VERB,\n",
    "                \"R\": wordnet.ADV}\n",
    "    return tag_dict.get(tag, wordnet.NOUN)\n",
    "\n",
    "def sentence_similarity(sentence1, sentence2):\n",
    "    # Preprocess both sentences\n",
    "    tokens1 = preprocess(sentence1)\n",
    "    tokens2 = preprocess(sentence2)\n",
    "    # Compute Jaccard similarity\n",
    "    jaccard_sim = 1 - jaccard_distance(set(tokens1), set(tokens2))\n",
    "    return jaccard_sim\n",
    "\n",
    "# Example usage:\n",
    "# sentence1 = \"The quick brown fox jumps over the lazy dog\"\n",
    "# sentence2 = \"A fast brown fox jumps over a lazy dog\"\n",
    "# similarity = sentence_similarity(sentence1, sentence2)\n",
    "# print(\"Similarity between the two sentences:\", similarity)\n",
    "\n",
    "count = 0"
   ]
  },
  {
   "cell_type": "code",
   "execution_count": 2,
   "metadata": {},
   "outputs": [],
   "source": [
    "Expected_reply = \"\"\"\n",
    "  Bramhaputra\n",
    "  Lohit \n",
    "  Dihing \n",
    "  Siang\n",
    "  Manas\n",
    "  Kapili\n",
    "  Disang\n",
    "  Subahnshri\n",
    "  \"\"\""
   ]
  },
  {
   "cell_type": "code",
   "execution_count": 3,
   "metadata": {},
   "outputs": [],
   "source": [
    "RAG_reply = \"\"\"\n",
    "Based on the provided context, there are three hostels mentioned in the document:\n",
    "\n",
    "1. Hostel 1 (Core1)\n",
    "2. Hostel 2 (Core2)\n",
    "3. Hostel 3 (Core3)\n",
    "4. Hostel 4 (Core4)\n",
    "5. View Point\n",
    "6. CCD outlet (just outside the library)\n",
    "\n",
    "So, the answer to your question is: Hostels 1, 2, 3, 4, and View Point are the hostels in IIT Guwahati.\n",
    "\n",
    "\"\"\"\n",
    "similarity_RAG = sentence_similarity(Expected_reply, RAG_reply)\n",
    "#print(\"Similarity between the two sentences:\", similarity_RAG*100)"
   ]
  },
  {
   "cell_type": "code",
   "execution_count": 4,
   "metadata": {},
   "outputs": [],
   "source": [
    "RAGNER_reply = \"\"\"\n",
    "Based on the provided documents, the following are the hostels mentioned in IIT Guwahati:\n",
    "\n",
    "1. Lohit\n",
    "2. Dihing.\n",
    "3. Siang\n",
    "4. Manas\n",
    "5. Brahmaputra (mentioned as the location of a CCD outlet)\n",
    "\n",
    "Therefore, the answer to the question is:\n",
    "\n",
    "Lohit, Dihing., Siang, Manas, and Brahmaputra.\n",
    "\"\"\"\n",
    "\n",
    "similarity_RAGNER = sentence_similarity(Expected_reply, RAGNER_reply)\n",
    "#print(\"Similarity between the two sentences:\", similarity_RAGNER*100)"
   ]
  },
  {
   "cell_type": "code",
   "execution_count": 5,
   "metadata": {},
   "outputs": [
    {
     "name": "stdout",
     "output_type": "stream",
     "text": [
      "RAGNER is better\n"
     ]
    }
   ],
   "source": [
    "if RAGNER_reply > RAG_reply:\n",
    "  print(\"RAGNER is better\")\n",
    "else:\n",
    "  print(\"RAGNER is not that great\")"
   ]
  },
  {
   "cell_type": "code",
   "execution_count": null,
   "metadata": {},
   "outputs": [],
   "source": []
  }
 ],
 "metadata": {
  "kernelspec": {
   "display_name": ".venv",
   "language": "python",
   "name": "python3"
  },
  "language_info": {
   "codemirror_mode": {
    "name": "ipython",
    "version": 3
   },
   "file_extension": ".py",
   "mimetype": "text/x-python",
   "name": "python",
   "nbconvert_exporter": "python",
   "pygments_lexer": "ipython3",
   "version": "3.11.0"
  },
  "orig_nbformat": 4
 },
 "nbformat": 4,
 "nbformat_minor": 2
}
