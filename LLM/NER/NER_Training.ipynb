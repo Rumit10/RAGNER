{
 "cells": [
  {
   "cell_type": "code",
   "execution_count": 1,
   "metadata": {},
   "outputs": [],
   "source": [
    "import spacy"
   ]
  },
  {
   "cell_type": "code",
   "execution_count": 8,
   "metadata": {},
   "outputs": [
    {
     "name": "stdout",
     "output_type": "stream",
     "text": [
      "Collecting en-core-web-lg==3.7.1\n",
      "  Downloading https://github.com/explosion/spacy-models/releases/download/en_core_web_lg-3.7.1/en_core_web_lg-3.7.1-py3-none-any.whl (587.7 MB)\n",
      "\u001b[2K     \u001b[90m━━━━━━━━━━━━━━━━━━━━━━━━━━━━━━━━━━━━━━━\u001b[0m \u001b[32m587.7/587.7 MB\u001b[0m \u001b[31m1.7 MB/s\u001b[0m eta \u001b[36m0:00:00\u001b[0m00:01\u001b[0m00:04\u001b[0m\n",
      "\u001b[?25hRequirement already satisfied: spacy<3.8.0,>=3.7.2 in /home/raone/LLM Project/.venv/lib/python3.11/site-packages (from en-core-web-lg==3.7.1) (3.7.4)\n",
      "Requirement already satisfied: spacy-legacy<3.1.0,>=3.0.11 in /home/raone/LLM Project/.venv/lib/python3.11/site-packages (from spacy<3.8.0,>=3.7.2->en-core-web-lg==3.7.1) (3.0.12)\n",
      "Requirement already satisfied: spacy-loggers<2.0.0,>=1.0.0 in /home/raone/LLM Project/.venv/lib/python3.11/site-packages (from spacy<3.8.0,>=3.7.2->en-core-web-lg==3.7.1) (1.0.5)\n",
      "Requirement already satisfied: murmurhash<1.1.0,>=0.28.0 in /home/raone/LLM Project/.venv/lib/python3.11/site-packages (from spacy<3.8.0,>=3.7.2->en-core-web-lg==3.7.1) (1.0.10)\n",
      "Requirement already satisfied: cymem<2.1.0,>=2.0.2 in /home/raone/LLM Project/.venv/lib/python3.11/site-packages (from spacy<3.8.0,>=3.7.2->en-core-web-lg==3.7.1) (2.0.8)\n",
      "Requirement already satisfied: preshed<3.1.0,>=3.0.2 in /home/raone/LLM Project/.venv/lib/python3.11/site-packages (from spacy<3.8.0,>=3.7.2->en-core-web-lg==3.7.1) (3.0.9)\n",
      "Requirement already satisfied: thinc<8.3.0,>=8.2.2 in /home/raone/LLM Project/.venv/lib/python3.11/site-packages (from spacy<3.8.0,>=3.7.2->en-core-web-lg==3.7.1) (8.2.3)\n",
      "Requirement already satisfied: wasabi<1.2.0,>=0.9.1 in /home/raone/LLM Project/.venv/lib/python3.11/site-packages (from spacy<3.8.0,>=3.7.2->en-core-web-lg==3.7.1) (1.1.2)\n",
      "Requirement already satisfied: srsly<3.0.0,>=2.4.3 in /home/raone/LLM Project/.venv/lib/python3.11/site-packages (from spacy<3.8.0,>=3.7.2->en-core-web-lg==3.7.1) (2.4.8)\n",
      "Requirement already satisfied: catalogue<2.1.0,>=2.0.6 in /home/raone/LLM Project/.venv/lib/python3.11/site-packages (from spacy<3.8.0,>=3.7.2->en-core-web-lg==3.7.1) (2.0.10)\n",
      "Requirement already satisfied: weasel<0.4.0,>=0.1.0 in /home/raone/LLM Project/.venv/lib/python3.11/site-packages (from spacy<3.8.0,>=3.7.2->en-core-web-lg==3.7.1) (0.3.4)\n",
      "Requirement already satisfied: typer<0.10.0,>=0.3.0 in /home/raone/LLM Project/.venv/lib/python3.11/site-packages (from spacy<3.8.0,>=3.7.2->en-core-web-lg==3.7.1) (0.9.4)\n",
      "Requirement already satisfied: smart-open<7.0.0,>=5.2.1 in /home/raone/LLM Project/.venv/lib/python3.11/site-packages (from spacy<3.8.0,>=3.7.2->en-core-web-lg==3.7.1) (6.4.0)\n",
      "Requirement already satisfied: tqdm<5.0.0,>=4.38.0 in /home/raone/LLM Project/.venv/lib/python3.11/site-packages (from spacy<3.8.0,>=3.7.2->en-core-web-lg==3.7.1) (4.66.4)\n",
      "Requirement already satisfied: requests<3.0.0,>=2.13.0 in /home/raone/LLM Project/.venv/lib/python3.11/site-packages (from spacy<3.8.0,>=3.7.2->en-core-web-lg==3.7.1) (2.31.0)\n",
      "Requirement already satisfied: pydantic!=1.8,!=1.8.1,<3.0.0,>=1.7.4 in /home/raone/LLM Project/.venv/lib/python3.11/site-packages (from spacy<3.8.0,>=3.7.2->en-core-web-lg==3.7.1) (2.7.1)\n",
      "Requirement already satisfied: jinja2 in /home/raone/LLM Project/.venv/lib/python3.11/site-packages (from spacy<3.8.0,>=3.7.2->en-core-web-lg==3.7.1) (3.1.3)\n",
      "Requirement already satisfied: setuptools in /home/raone/LLM Project/.venv/lib/python3.11/site-packages (from spacy<3.8.0,>=3.7.2->en-core-web-lg==3.7.1) (69.5.1)\n",
      "Requirement already satisfied: packaging>=20.0 in /home/raone/LLM Project/.venv/lib/python3.11/site-packages (from spacy<3.8.0,>=3.7.2->en-core-web-lg==3.7.1) (23.2)\n",
      "Requirement already satisfied: langcodes<4.0.0,>=3.2.0 in /home/raone/LLM Project/.venv/lib/python3.11/site-packages (from spacy<3.8.0,>=3.7.2->en-core-web-lg==3.7.1) (3.4.0)\n",
      "Requirement already satisfied: numpy>=1.19.0 in /home/raone/LLM Project/.venv/lib/python3.11/site-packages (from spacy<3.8.0,>=3.7.2->en-core-web-lg==3.7.1) (1.26.4)\n",
      "Requirement already satisfied: language-data>=1.2 in /home/raone/LLM Project/.venv/lib/python3.11/site-packages (from langcodes<4.0.0,>=3.2.0->spacy<3.8.0,>=3.7.2->en-core-web-lg==3.7.1) (1.2.0)\n",
      "Requirement already satisfied: annotated-types>=0.4.0 in /home/raone/LLM Project/.venv/lib/python3.11/site-packages (from pydantic!=1.8,!=1.8.1,<3.0.0,>=1.7.4->spacy<3.8.0,>=3.7.2->en-core-web-lg==3.7.1) (0.6.0)\n",
      "Requirement already satisfied: pydantic-core==2.18.2 in /home/raone/LLM Project/.venv/lib/python3.11/site-packages (from pydantic!=1.8,!=1.8.1,<3.0.0,>=1.7.4->spacy<3.8.0,>=3.7.2->en-core-web-lg==3.7.1) (2.18.2)\n",
      "Requirement already satisfied: typing-extensions>=4.6.1 in /home/raone/LLM Project/.venv/lib/python3.11/site-packages (from pydantic!=1.8,!=1.8.1,<3.0.0,>=1.7.4->spacy<3.8.0,>=3.7.2->en-core-web-lg==3.7.1) (4.11.0)\n",
      "Requirement already satisfied: charset-normalizer<4,>=2 in /home/raone/LLM Project/.venv/lib/python3.11/site-packages (from requests<3.0.0,>=2.13.0->spacy<3.8.0,>=3.7.2->en-core-web-lg==3.7.1) (3.3.2)\n",
      "Requirement already satisfied: idna<4,>=2.5 in /home/raone/LLM Project/.venv/lib/python3.11/site-packages (from requests<3.0.0,>=2.13.0->spacy<3.8.0,>=3.7.2->en-core-web-lg==3.7.1) (3.7)\n",
      "Requirement already satisfied: urllib3<3,>=1.21.1 in /home/raone/LLM Project/.venv/lib/python3.11/site-packages (from requests<3.0.0,>=2.13.0->spacy<3.8.0,>=3.7.2->en-core-web-lg==3.7.1) (2.2.1)\n",
      "Requirement already satisfied: certifi>=2017.4.17 in /home/raone/LLM Project/.venv/lib/python3.11/site-packages (from requests<3.0.0,>=2.13.0->spacy<3.8.0,>=3.7.2->en-core-web-lg==3.7.1) (2024.2.2)\n",
      "Requirement already satisfied: blis<0.8.0,>=0.7.8 in /home/raone/LLM Project/.venv/lib/python3.11/site-packages (from thinc<8.3.0,>=8.2.2->spacy<3.8.0,>=3.7.2->en-core-web-lg==3.7.1) (0.7.11)\n",
      "Requirement already satisfied: confection<1.0.0,>=0.0.1 in /home/raone/LLM Project/.venv/lib/python3.11/site-packages (from thinc<8.3.0,>=8.2.2->spacy<3.8.0,>=3.7.2->en-core-web-lg==3.7.1) (0.1.4)\n",
      "Requirement already satisfied: click<9.0.0,>=7.1.1 in /home/raone/LLM Project/.venv/lib/python3.11/site-packages (from typer<0.10.0,>=0.3.0->spacy<3.8.0,>=3.7.2->en-core-web-lg==3.7.1) (8.1.7)\n",
      "Requirement already satisfied: cloudpathlib<0.17.0,>=0.7.0 in /home/raone/LLM Project/.venv/lib/python3.11/site-packages (from weasel<0.4.0,>=0.1.0->spacy<3.8.0,>=3.7.2->en-core-web-lg==3.7.1) (0.16.0)\n",
      "Requirement already satisfied: MarkupSafe>=2.0 in /home/raone/LLM Project/.venv/lib/python3.11/site-packages (from jinja2->spacy<3.8.0,>=3.7.2->en-core-web-lg==3.7.1) (2.1.5)\n",
      "Requirement already satisfied: marisa-trie>=0.7.7 in /home/raone/LLM Project/.venv/lib/python3.11/site-packages (from language-data>=1.2->langcodes<4.0.0,>=3.2.0->spacy<3.8.0,>=3.7.2->en-core-web-lg==3.7.1) (1.1.0)\n",
      "Installing collected packages: en-core-web-lg\n",
      "Successfully installed en-core-web-lg-3.7.1\n",
      "\u001b[38;5;2m✔ Download and installation successful\u001b[0m\n",
      "You can now load the package via spacy.load('en_core_web_lg')\n"
     ]
    }
   ],
   "source": [
    "!python -m spacy download en_core_web_lg"
   ]
  },
  {
   "cell_type": "code",
   "execution_count": 2,
   "metadata": {},
   "outputs": [],
   "source": [
    "nlp = spacy.load(\"en_core_web_lg\")"
   ]
  },
  {
   "cell_type": "code",
   "execution_count": 8,
   "metadata": {},
   "outputs": [],
   "source": [
    "filename = 'iitg_annotations.json'  # Replace with your JSON file name"
   ]
  },
  {
   "cell_type": "code",
   "execution_count": 9,
   "metadata": {},
   "outputs": [
    {
     "name": "stdout",
     "output_type": "stream",
     "text": [
      "[{'text': 'IITG was Established in 1994. Nestled along the picturesque northern banks of the Brahmaputra River in Guwahati, Assam, the institute offers a wide array of undergraduate, postgraduate, and doctoral programs across engineering, science, and humanities disciplines. Its sprawling 700-acre campus boasts state-of-the-art infrastructure, including academic buildings, research centers, hostels, sports facilities, and student activity centers, providing an enriching environment for learning and innovation.\\r', 'entities': [[82, 93, 'HOSTEL']]}, {'text': '\\r', 'entities': []}, {'text': \"Beyond academics, IIT Guwahati fosters a vibrant student life with numerous clubs, societies, and cultural events that cater to a diverse range of interests, from music and dance to entrepreneurship initiatives. The institute's emphasis on research and innovation has led to significant contributions in fields such as nanotechnology, biotechnology, renewable energy, and environmental science, with a strong emphasis on interdisciplinary collaboration and industry partnerships.\\r\", 'entities': [[319, 333, 'DEPARTMENT'], [335, 348, 'DEPARTMENT'], [350, 366, 'DEPARTMENT'], [372, 393, 'DEPARTMENT']]}, {'text': '\\r', 'entities': []}, {'text': 'With a robust placement record, IIT Guwahati attracts leading companies from around the world, offering promising career opportunities to its graduates. Moreover, its alumni network, comprising successful professionals across various domains, further enhances its reputation and global reach. Additionally, the institute is deeply committed to outreach and social initiatives, actively engaging in projects aimed at promoting education, skill development, and social welfare in the northeastern region of India, thereby embodying its mission of academic excellence coupled with societal impact. Overall, IIT Guwahati stands as a beacon of excellence in engineering education, research, and community development, making it a preferred destination for students aspiring to make a difference in the world of technology and beyond.\\r', 'entities': []}, {'text': '\\r', 'entities': []}, {'text': 'Debsoc, is currently hiring new members to join its dynamic team. Aspiring debaters and public speakers are invited to apply and showcase their skills in argumentation, persuasion, and critical thinking. Meanwhile, for students interested in competitive programming, the institute will be conducting orientation sessions for ICPC on the upcoming Saturday. These orientations will provide valuable insights into the format, rules, and strategies for participating in these prestigious programming competitions. Additionally, the initial selection rounds for ICPC will commence alongside the orientation allowing participants to kickstart their journey in competitive programming and via for a spot in the esteemed ICPC competition. Whether students are passionate about debating or programming, these opportunities offer a chance to enhance their skills, meet like-minded peers, and actively engage in extracurricular pursuits at IIT Guwahati.\\r', 'entities': [[0, 6, 'CLUB'], [325, 329, 'CLUB']]}, {'text': '\\r', 'entities': []}, {'text': 'Just outside the library at the Indian Institute of Technology Guwahati, students can find a CCD outlet.\\r', 'entities': [[93, 96, 'PLACES']]}, {'text': '\\r', 'entities': []}, {'text': 'In the heart of the campus, nestled among lush green trees and well-manicured lawns, IITG has home to the brightest and most talented students. Lohit was spardha winner it has emerged victorious after a tough fight from Dihing. There are many restaurants, but Siang has the best food although Manas still tops the list of number of visitors per day. Just outside the gymkhana was Khoka, where students would often celebrate on special occasion.  Students would gather around Khoka during their breaks, chatting and laughing as they enjoyed their snacks.\\r', 'entities': [[144, 149, 'HOSTEL'], [220, 227, 'HOSTEL'], [260, 265, 'HOSTEL'], [293, 298, 'HOSTEL'], [380, 385, 'PLACES']]}, {'text': ' \\r', 'entities': []}, {'text': 'As you walk along Suryapath. you have core1 on left, to your right is Core2. Further down the road, you come across Core3.\\r', 'entities': [[18, 28, 'ROAD'], [38, 43, 'BUILDING'], [70, 76, 'BUILDING'], [116, 121, 'BUILDING']]}, {'text': \"As you continue on your journey, you reach Core4 a symbol of the institution's rich heritage and tradition, with its grand facade and intricate detailing. Just after that on front side you have view point from which you can see the magnificent serpentine.\\r\", 'entities': [[43, 48, 'BUILDING'], [244, 254, 'LAKE']]}, {'text': ' \\r', 'entities': []}, {'text': 'Student counseling at the Indian Institute of Technology Guwahati (IIT Guwahati or IITG) plays a crucial role in supporting the mental health and well-being of its student community. In recent years, the issue of student suicides has brought increased attention to the importance of mental health services on campus. Recognizing the need for proactive intervention, the institute has intensified its efforts to provide comprehensive counseling and support mechanisms to students facing academic, personal, or emotional challenges. Trained counselors offer confidential guidance and assistance to students, helping them navigate through academic pressures, relationship issues, and other stressors. Additionally, workshops, seminars, and awareness campaigns are organized to promote mental health awareness and resilience-building among students.\\r', 'entities': []}, {'text': '\\r', 'entities': []}, {'text': 'Unfortunately, the tragic incident of a first-year student from CSE committed suicide in Brahmaputra which has underscored the urgent need for enhanced mental health support within the campus community.This heartbreaking event has prompted the institute to redouble its efforts in implementing proactive measures to address mental health concerns and provide timely intervention and support to students in distress. By prioritizing student counseling and mental health support, IIT Guwahati aims to create a nurturing and supportive campus environment where students can thrive academically and personally while addressing the complex challenges of mental health in academia.\\r', 'entities': [[89, 100, 'HOSTEL']]}, {'text': '', 'entities': []}]\n"
     ]
    }
   ],
   "source": [
    "import json\n",
    "tuples = []\n",
    "def read_json_file(filename):\n",
    "    with open(filename, 'r') as file:\n",
    "        data = json.load(file)\n",
    "    return data\n",
    "\n",
    "def extract_tuples(data):\n",
    "\n",
    "    for item in data:\n",
    "        text = item[0]\n",
    "        entities = item[1]['entities']\n",
    "        tuples.append({'text': text, 'entities': entities})\n",
    "    return tuples\n",
    "\n",
    "def main():\n",
    "    data = read_json_file(filename)\n",
    "    tuples = extract_tuples(data)\n",
    "    print(tuples)\n",
    "\n",
    "if __name__ == '__main__':\n",
    "    main()\n"
   ]
  },
  {
   "cell_type": "code",
   "execution_count": 10,
   "metadata": {},
   "outputs": [],
   "source": [
    "from spacy.tokens import DocBin\n",
    "from tqdm import tqdm\n",
    "from spacy.util import filter_spans\n",
    "\n",
    "nlp = spacy.blank('en')"
   ]
  },
  {
   "cell_type": "code",
   "execution_count": 11,
   "metadata": {},
   "outputs": [
    {
     "name": "stderr",
     "output_type": "stream",
     "text": [
      "100%|██████████| 19/19 [00:00<00:00, 483.15it/s]\n"
     ]
    }
   ],
   "source": [
    "doc_bin = DocBin()\n",
    "for training_example in tqdm(tuples):\n",
    "    text = training_example['text']\n",
    "    labels = training_example['entities']\n",
    "    doc = nlp.make_doc(text)\n",
    "    ents = []\n",
    "    for start, end, label in labels:\n",
    "        span = doc.char_span(start, end, label=label, alignment_mode=\"contract\")\n",
    "        if span is None:\n",
    "            print(\"Skipping entity\")\n",
    "        else:\n",
    "            ents.append(span)\n",
    "    filtered_ents = filter_spans(ents)\n",
    "    doc.ents = filtered_ents\n",
    "    doc_bin.add(doc)\n",
    "\n",
    "doc_bin.to_disk(\"train.spacy\")"
   ]
  },
  {
   "cell_type": "code",
   "execution_count": 12,
   "metadata": {},
   "outputs": [
    {
     "name": "stdout",
     "output_type": "stream",
     "text": [
      "\u001b[38;5;4mℹ Saving to output directory: .\u001b[0m\n",
      "\u001b[38;5;4mℹ Using CPU\u001b[0m\n",
      "\u001b[1m\n",
      "=========================== Initializing pipeline ===========================\u001b[0m\n",
      "\u001b[38;5;2m✔ Initialized pipeline\u001b[0m\n",
      "\u001b[1m\n",
      "============================= Training pipeline =============================\u001b[0m\n",
      "\u001b[38;5;4mℹ Pipeline: ['tok2vec', 'ner']\u001b[0m\n",
      "\u001b[38;5;4mℹ Initial learn rate: 0.001\u001b[0m\n",
      "E    #       LOSS TOK2VEC  LOSS NER  ENTS_F  ENTS_P  ENTS_R  SCORE \n",
      "---  ------  ------------  --------  ------  ------  ------  ------\n",
      "  0       0          0.00     45.00    0.00    0.00    0.00    0.00\n",
      " 22     200         75.99    839.34   97.44  100.00   95.00    0.97\n",
      " 46     400          2.24     16.11  100.00  100.00  100.00    1.00\n",
      " 73     600          0.00      0.00  100.00  100.00  100.00    1.00\n",
      "^C\n"
     ]
    }
   ],
   "source": [
    "!python -m spacy train config.cfg --output ./ --paths.train ./train.spacy --paths.dev ./train.spacy"
   ]
  },
  {
   "cell_type": "code",
   "execution_count": 13,
   "metadata": {},
   "outputs": [],
   "source": [
    "nlp_ner = spacy.load(\"/home/raone/LLM Project/NER/model-best\")"
   ]
  },
  {
   "cell_type": "code",
   "execution_count": 16,
   "metadata": {},
   "outputs": [
    {
     "data": {
      "text/html": [
       "<span class=\"tex2jax_ignore\"><div class=\"entities\" style=\"line-height: 2.5; direction: ltr\">As you walk along \n",
       "<mark class=\"entity\" style=\"background: #ddd; padding: 0.45em 0.6em; margin: 0 0.25em; line-height: 1; border-radius: 0.35em;\">\n",
       "    Suryapath.\n",
       "    <span style=\"font-size: 0.8em; font-weight: bold; line-height: 1; border-radius: 0.35em; vertical-align: middle; margin-left: 0.5rem\">ROAD</span>\n",
       "</mark>\n",
       " you have \n",
       "<mark class=\"entity\" style=\"background: #ddd; padding: 0.45em 0.6em; margin: 0 0.25em; line-height: 1; border-radius: 0.35em;\">\n",
       "    core1\n",
       "    <span style=\"font-size: 0.8em; font-weight: bold; line-height: 1; border-radius: 0.35em; vertical-align: middle; margin-left: 0.5rem\">BUILDING</span>\n",
       "</mark>\n",
       " on left, to your right is \n",
       "<mark class=\"entity\" style=\"background: #ddd; padding: 0.45em 0.6em; margin: 0 0.25em; line-height: 1; border-radius: 0.35em;\">\n",
       "    Core2.\n",
       "    <span style=\"font-size: 0.8em; font-weight: bold; line-height: 1; border-radius: 0.35em; vertical-align: middle; margin-left: 0.5rem\">BUILDING</span>\n",
       "</mark>\n",
       " Further down the road, you come across \n",
       "<mark class=\"entity\" style=\"background: #ddd; padding: 0.45em 0.6em; margin: 0 0.25em; line-height: 1; border-radius: 0.35em;\">\n",
       "    Core3\n",
       "    <span style=\"font-size: 0.8em; font-weight: bold; line-height: 1; border-radius: 0.35em; vertical-align: middle; margin-left: 0.5rem\">BUILDING</span>\n",
       "</mark>\n",
       ".</div></span>"
      ],
      "text/plain": [
       "<IPython.core.display.HTML object>"
      ]
     },
     "metadata": {},
     "output_type": "display_data"
    }
   ],
   "source": [
    "doc = nlp_ner(\"As you walk along Suryapath. you have core1 on left, to your right is Core2. Further down the road, you come across Core3.\")\n",
    "\n",
    "spacy.displacy.render(doc, style=\"ent\")"
   ]
  },
  {
   "cell_type": "code",
   "execution_count": null,
   "metadata": {},
   "outputs": [],
   "source": []
  }
 ],
 "metadata": {
  "kernelspec": {
   "display_name": ".venv",
   "language": "python",
   "name": "python3"
  },
  "language_info": {
   "codemirror_mode": {
    "name": "ipython",
    "version": 3
   },
   "file_extension": ".py",
   "mimetype": "text/x-python",
   "name": "python",
   "nbconvert_exporter": "python",
   "pygments_lexer": "ipython3",
   "version": "3.11.0"
  },
  "orig_nbformat": 4
 },
 "nbformat": 4,
 "nbformat_minor": 2
}
